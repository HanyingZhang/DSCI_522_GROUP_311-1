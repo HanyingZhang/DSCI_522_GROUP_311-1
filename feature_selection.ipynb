{
 "cells": [
  {
   "cell_type": "code",
   "execution_count": 76,
   "metadata": {},
   "outputs": [],
   "source": [
    "# Lecture 1\n",
    "\n",
    "from sklearn.model_selection import train_test_split \n",
    "from sklearn.model_selection import GridSearchCV, RandomizedSearchCV\n",
    "from sklearn.datasets import load_digits\n",
    "from sklearn.tree import DecisionTreeClassifier\n",
    "from sklearn.linear_model import LogisticRegression, LinearRegression\n",
    "from sklearn.svm import SVC, SVR, LinearSVC\n",
    "from sklearn.ensemble import RandomForestClassifier, RandomForestRegressor\n",
    "from sklearn.metrics import confusion_matrix\n",
    "from sklearn.metrics import plot_confusion_matrix\n",
    "from sklearn.metrics import classification_report\n",
    "\n",
    "# Lecture 2\n",
    "from sklearn.gaussian_process import GaussianProcessClassifier\n",
    "from sklearn.gaussian_process.kernels import RBF, DotProduct\n",
    "from sklearn.datasets import make_blobs, make_regression, make_circles\n",
    "from sklearn.preprocessing import PolynomialFeatures\n",
    "from sklearn.metrics import mean_squared_error, r2_score\n",
    "\n",
    "# Lecture 3\n",
    "# Feature selection\n",
    "from sklearn.feature_selection import RFE, RFECV\n",
    "\n",
    "# data\n",
    "from sklearn.datasets import make_friedman1\n",
    "\n",
    "# Other\n",
    "import numpy as np\n",
    "import pandas as pd\n",
    "import pickle \n",
    "import numpy.random as npr\n",
    "import numpy.linalg as npla\n",
    "from scipy.optimize import minimize\n",
    "\n",
    "\n",
    "from sklearn import datasets\n",
    "from sklearn.datasets import make_hastie_10_2\n",
    "from sklearn.datasets import load_boston\n",
    "from sklearn.datasets import fetch_20newsgroups\n",
    "from sklearn.feature_extraction.text import TfidfVectorizer, TfidfTransformer\n",
    "from sklearn.feature_extraction.text import CountVectorizer\n",
    "\n",
    "# pip install git+git://github.com/mgelbart/plot-classifier.git\n",
    "from plot_classifier import plot_classifier\n",
    "\n",
    "import matplotlib.pyplot as plt\n",
    "%matplotlib inline\n",
    "import seaborn as sns\n",
    "\n",
    "import pandas as pd\n",
    "pd.set_option(\"display.max_colwidth\", 200)\n",
    "\n",
    "import altair as alt\n",
    "import time\n",
    "\n",
    "# pip install ipython-autotime\n",
    "import autotime"
   ]
  },
  {
   "cell_type": "code",
   "execution_count": 77,
   "metadata": {},
   "outputs": [],
   "source": [
    "# fit and report function\n",
    "\n",
    "def fit_and_report(model, X, y, Xv, yv, mode = 'regression'):\n",
    "    \"\"\"\n",
    "    WRITE YOUR DOCSTRING HERE. \n",
    "    \"\"\"\n",
    "    model.fit(X, y)\n",
    "    if mode.lower().startswith('regress'):\n",
    "        errors = [mean_squared_error(y, model.predict(X)), mean_squared_error(yv, model.predict(Xv))]\n",
    "    if mode.lower().startswith('classif'):\n",
    "        errors = [1 - model.score(X,y), 1 - model.score(Xv,yv)]        \n",
    "    return errors"
   ]
  },
  {
   "cell_type": "code",
   "execution_count": 78,
   "metadata": {},
   "outputs": [],
   "source": [
    "df = pd.read_csv(\"data/winequality-red.csv\")"
   ]
  },
  {
   "cell_type": "code",
   "execution_count": 79,
   "metadata": {},
   "outputs": [],
   "source": [
    "# Create train/test splits\n",
    "X = (df.drop(columns = ['quality'])).to_numpy()\n",
    "y = (df['quality']).to_numpy()\n",
    "X_train, X_test, y_train, y_test = train_test_split(X, y, test_size = 0.2, random_state = 111)"
   ]
  },
  {
   "cell_type": "code",
   "execution_count": 80,
   "metadata": {},
   "outputs": [
    {
     "name": "stdout",
     "output_type": "stream",
     "text": [
      "Train error 0.418\n",
      "Test error 0.413\n"
     ]
    }
   ],
   "source": [
    "lr = LinearRegression(normalize=True)\n",
    "errors = fit_and_report(lr, X_train, y_train, X_test, y_test)\n",
    "print('Train error %0.3f'%(errors[0]))\n",
    "print('Test error %0.3f'%(errors[1]))\n",
    "\n",
    "results = {'model':[], 'train error':[], 'test error':[]}\n",
    "results['model'].append('Linear Regression (all feats)')\n",
    "results['train error'].append(errors[0])\n",
    "results['test error'].append(errors[1])"
   ]
  },
  {
   "cell_type": "code",
   "execution_count": 81,
   "metadata": {},
   "outputs": [],
   "source": [
    "error_train =[]\n",
    "error_valid =[]\n",
    "\n",
    "for i in range(1,12):\n",
    "    lr = LinearRegression(normalize=True)\n",
    "    rfe = RFE(estimator = lr, n_features_to_select = i)\n",
    "    rfe.fit(X_train, y_train)\n",
    "    \n",
    "    X_train_sel = X_train[:, rfe.support_]\n",
    "    X_test_sel = X_test[:, rfe.support_]\n",
    "    \n",
    "    errors = fit_and_report(SVR(), X_train_sel, y_train, X_test_sel, y_test)\n",
    "    error_train.append(errors[0])\n",
    "    error_valid.append(errors[1])"
   ]
  },
  {
   "cell_type": "code",
   "execution_count": 82,
   "metadata": {},
   "outputs": [
    {
     "data": {
      "text/plain": [
       "Text(0.5,1,'The mean squared error with different number of features')"
      ]
     },
     "execution_count": 82,
     "metadata": {},
     "output_type": "execute_result"
    },
    {
     "data": {
      "image/png": "[encoded data removed]",
      "text/plain": [
       "<Figure size 432x288 with 1 Axes>"
      ]
     },
     "metadata": {
      "needs_background": "light"
     },
     "output_type": "display_data"
    }
   ],
   "source": [
    "plt.plot(error_train, label=\"Training\")\n",
    "plt.plot(error_valid, label=\"Validation\")\n",
    "plt.legend()\n",
    "plt.xlabel('number of features')\n",
    "plt.ylabel('mean squared error')\n",
    "plt.title('The mean squared error with different number of features')"
   ]
  },
  {
   "cell_type": "code",
   "execution_count": 83,
   "metadata": {},
   "outputs": [
    {
     "name": "stdout",
     "output_type": "stream",
     "text": [
      "[False  True False False  True False False  True  True  True False]\n",
      "[4 1 3 5 1 6 7 1 1 1 2]\n"
     ]
    }
   ],
   "source": [
    "## fit the model with number of features= 5\n",
    "\n",
    "lr = LinearRegression(normalize=True)\n",
    "rfe = RFE(estimator = lr, n_features_to_select = 5)\n",
    "rfe.fit(X_train, y_train)\n",
    "\n",
    "# How to access the selected features\n",
    "print(rfe.support_)\n",
    "\n",
    "# How to access the feature ranking\n",
    "print(rfe.ranking_)"
   ]
  },
  {
   "cell_type": "code",
   "execution_count": 84,
   "metadata": {},
   "outputs": [
    {
     "name": "stdout",
     "output_type": "stream",
     "text": [
      "Train error 0.499\n",
      "Test error 0.481\n"
     ]
    }
   ],
   "source": [
    "## export the new train and test data\n",
    "## Hanying !!!\n",
    "### Let's examine the train and test errors on the selected features\n",
    "X_train_sel = X_train[:, rfe.support_]\n",
    "X_test_sel = X_test[:, rfe.support_]\n",
    "lr = LinearRegression(normalize=True)\n",
    "\n",
    "errors = fit_and_report(lr, X_train_sel, y_train, X_test_sel, y_test)\n",
    "print('Train error %0.3f'%(errors[0]))\n",
    "print('Test error %0.3f'%(errors[1]))\n",
    "\n",
    "results['model'].append('Linear Regression (RFE)')\n",
    "results['train error'].append(errors[0])\n",
    "results['test error'].append(errors[1])"
   ]
  },
  {
   "cell_type": "code",
   "execution_count": 85,
   "metadata": {},
   "outputs": [
    {
     "data": {
      "text/html": [
       "<div>\n",
       "<style scoped>\n",
       "    .dataframe tbody tr th:only-of-type {\n",
       "        vertical-align: middle;\n",
       "    }\n",
       "\n",
       "    .dataframe tbody tr th {\n",
       "        vertical-align: top;\n",
       "    }\n",
       "\n",
       "    .dataframe thead th {\n",
       "        text-align: right;\n",
       "    }\n",
       "</style>\n",
       "<table border=\"1\" class=\"dataframe\">\n",
       "  <thead>\n",
       "    <tr style=\"text-align: right;\">\n",
       "      <th></th>\n",
       "      <th>model</th>\n",
       "      <th>train error</th>\n",
       "      <th>test error</th>\n",
       "    </tr>\n",
       "  </thead>\n",
       "  <tbody>\n",
       "    <tr>\n",
       "      <th>0</th>\n",
       "      <td>Linear Regression (all feats)</td>\n",
       "      <td>0.418107</td>\n",
       "      <td>0.412690</td>\n",
       "    </tr>\n",
       "    <tr>\n",
       "      <th>1</th>\n",
       "      <td>Linear Regression (RFE)</td>\n",
       "      <td>0.499245</td>\n",
       "      <td>0.481289</td>\n",
       "    </tr>\n",
       "  </tbody>\n",
       "</table>\n",
       "</div>"
      ],
      "text/plain": [
       "                           model  train error  test error\n",
       "0  Linear Regression (all feats)     0.418107    0.412690\n",
       "1        Linear Regression (RFE)     0.499245    0.481289"
      ]
     },
     "execution_count": 85,
     "metadata": {},
     "output_type": "execute_result"
    }
   ],
   "source": [
    "df = pd.DataFrame(results)\n",
    "df"
   ]
  }
 ],
 "metadata": {
  "kernelspec": {
   "display_name": "Python 3",
   "language": "python",
   "name": "python3"
  },
  "language_info": {
   "codemirror_mode": {
    "name": "ipython",
    "version": 3
   },
   "file_extension": ".py",
   "mimetype": "text/x-python",
   "name": "python",
   "nbconvert_exporter": "python",
   "pygments_lexer": "ipython3",
   "version": "3.7.4"
  }
 },
 "nbformat": 4,
 "nbformat_minor": 4
}
