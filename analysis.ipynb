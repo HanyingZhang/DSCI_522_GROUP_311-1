{
 "cells": [
  {
   "cell_type": "code",
   "execution_count": 1,
   "metadata": {},
   "outputs": [],
   "source": [
    "import numpy as np\n",
    "import pandas as pd\n",
    "from sklearn.svm import SVR\n",
    "from sklearn.preprocessing import StandardScaler\n",
    "from sklearn.model_selection import GridSearchCV, RandomizedSearchCV\n",
    "from sklearn.metrics import mean_squared_error\n",
    "from sklearn.model_selection import cross_val_score\n",
    "from sklearn.feature_selection import RFE\n",
    "from sklearn.linear_model import LogisticRegression, LinearRegression\n",
    "import altair as alt"
   ]
  },
  {
   "cell_type": "code",
   "execution_count": 2,
   "metadata": {},
   "outputs": [],
   "source": [
    "import warnings\n",
    "warnings.filterwarnings('ignore')"
   ]
  },
  {
   "cell_type": "code",
   "execution_count": 3,
   "metadata": {},
   "outputs": [],
   "source": [
    "### BEGIN starter code \n",
    "def fit_and_report(model, X, y, Xv, yv, mode = 'regression'):\n",
    "    \"\"\"\n",
    "    report the error of a model, if it is a regression model, scoring uses mean square error\n",
    "    if it is a classification model, scoring uses regular accuray\n",
    "    \n",
    "    Parameters\n",
    "    ----------\n",
    "    X: numpy.ndarray        \n",
    "        The X part of the train set\n",
    "    y: numpy.ndarray\n",
    "        The y part of the train set    \n",
    "    Xv: numpy.ndarray        \n",
    "        The X part of the validation set\n",
    "    yv: numpy.ndarray\n",
    "        The y part of the validation set \n",
    "    model: string \n",
    "        whether the model is a 'regression' model or 'classification',\n",
    "        default value is 'regression'\n",
    "        \n",
    "    Returns\n",
    "    -------\n",
    "        errors: float\n",
    "    \"\"\"\n",
    "    model.fit(X, y)\n",
    "    if mode.lower().startswith('regress'):\n",
    "        errors = [mean_squared_error(y, model.predict(X)), mean_squared_error(yv, model.predict(Xv))]\n",
    "    if mode.lower().startswith('classif'):\n",
    "        errors = [1 - model.score(X,y), 1 - model.score(Xv,yv)]        \n",
    "    return errors\n",
    "### END starter code "
   ]
  },
  {
   "cell_type": "code",
   "execution_count": 4,
   "metadata": {},
   "outputs": [],
   "source": [
    "X_train = pd.read_csv('data/processed/X_train.csv')\n",
    "y_train = pd.read_csv('data/processed/y_train.csv')\n",
    "X_test = pd.read_csv('data/processed/X_test.csv')\n",
    "y_test = pd.read_csv('data/processed/y_test.csv')"
   ]
  },
  {
   "cell_type": "code",
   "execution_count": 5,
   "metadata": {},
   "outputs": [],
   "source": [
    "scaler = StandardScaler()\n",
    "X_train_scaled = scaler.fit_transform(X_train)\n",
    "X_test_scaled = scaler.transform(X_test)"
   ]
  },
  {
   "cell_type": "markdown",
   "metadata": {},
   "source": [
    "#### The results are not so satisfactory, we will try perform feature selection "
   ]
  },
  {
   "cell_type": "code",
   "execution_count": 6,
   "metadata": {},
   "outputs": [
    {
     "data": {
      "text/plain": [
       "11"
      ]
     },
     "execution_count": 6,
     "metadata": {},
     "output_type": "execute_result"
    }
   ],
   "source": [
    "#  Let' see how many features we have \n",
    "\n",
    "len(X_train.columns)"
   ]
  },
  {
   "cell_type": "code",
   "execution_count": 7,
   "metadata": {},
   "outputs": [],
   "source": [
    "df = pd.DataFrame(columns = ['n_features_to_select','Train_error', 'Test_error']) \n",
    "\n",
    "for n in range(1,11):\n",
    "    lr = LinearRegression()\n",
    "    rfe = RFE(estimator = lr, n_features_to_select = n)\n",
    "    rfe.fit(X_train, y_train)\n",
    "    X_train_sel = X_train_scaled[:, rfe.support_]\n",
    "    X_test_sel = X_test_scaled[:, rfe.support_]\n",
    "    errors = fit_and_report(lr, X_train_sel, y_train, X_test_sel, y_test, mode='regression')\n",
    "    df = df.append({'n_features_to_select':n, 'Train_error':errors[0], 'Test_error':errors[1]},ignore_index = True)"
   ]
  },
  {
   "cell_type": "code",
   "execution_count": 8,
   "metadata": {},
   "outputs": [],
   "source": [
    "df = pd.melt(df, id_vars=['n_features_to_select'], value_vars=['Train_error','Test_error'],\n",
    "            var_name='error_type', value_name='value')"
   ]
  },
  {
   "cell_type": "code",
   "execution_count": 9,
   "metadata": {},
   "outputs": [
    {
     "data": {
      "application/vnd.vegalite.v3+json": {
       "$schema": "https://vega.github.io/schema/vega-lite/v3.4.0.json",
       "config": {
        "mark": {
         "tooltip": null
        },
        "view": {
         "height": 300,
         "width": 400
        }
       },
       "data": {
        "name": "data-c309a7dc02e46267163e4438d629e456"
       },
       "datasets": {
        "data-c309a7dc02e46267163e4438d629e456": [
         {
          "error_type": "Train_error",
          "n_features_to_select": 1,
          "value": 0.646999101558896
         },
         {
          "error_type": "Train_error",
          "n_features_to_select": 2,
          "value": 0.5453707368199021
         },
         {
          "error_type": "Train_error",
          "n_features_to_select": 3,
          "value": 0.5417723805946387
         },
         {
          "error_type": "Train_error",
          "n_features_to_select": 4,
          "value": 0.5068628416837341
         },
         {
          "error_type": "Train_error",
          "n_features_to_select": 5,
          "value": 0.5054506204903425
         },
         {
          "error_type": "Train_error",
          "n_features_to_select": 6,
          "value": 0.4358002878054278
         },
         {
          "error_type": "Train_error",
          "n_features_to_select": 7,
          "value": 0.4343085112044453
         },
         {
          "error_type": "Train_error",
          "n_features_to_select": 8,
          "value": 0.4321089257585395
         },
         {
          "error_type": "Train_error",
          "n_features_to_select": 9,
          "value": 0.43181085980242845
         },
         {
          "error_type": "Train_error",
          "n_features_to_select": 10,
          "value": 0.4316035657187162
         },
         {
          "error_type": "Test_error",
          "n_features_to_select": 1,
          "value": 0.5728876319824584
         },
         {
          "error_type": "Test_error",
          "n_features_to_select": 2,
          "value": 0.4928402112994714
         },
         {
          "error_type": "Test_error",
          "n_features_to_select": 3,
          "value": 0.4896780325281428
         },
         {
          "error_type": "Test_error",
          "n_features_to_select": 4,
          "value": 0.4575537496601103
         },
         {
          "error_type": "Test_error",
          "n_features_to_select": 5,
          "value": 0.4571807235088624
         },
         {
          "error_type": "Test_error",
          "n_features_to_select": 6,
          "value": 0.3821061522987753
         },
         {
          "error_type": "Test_error",
          "n_features_to_select": 7,
          "value": 0.38313457790582955
         },
         {
          "error_type": "Test_error",
          "n_features_to_select": 8,
          "value": 0.38733471185218277
         },
         {
          "error_type": "Test_error",
          "n_features_to_select": 9,
          "value": 0.3881494881998268
         },
         {
          "error_type": "Test_error",
          "n_features_to_select": 10,
          "value": 0.3870122846959095
         }
        ]
       },
       "encoding": {
        "color": {
         "field": "error_type",
         "type": "nominal"
        },
        "x": {
         "field": "n_features_to_select",
         "type": "quantitative"
        },
        "y": {
         "field": "value",
         "type": "quantitative"
        }
       },
       "mark": "line"
      },
      "image/png": "[encoded data removed]",
      "text/plain": [
       "<VegaLite 3 object>\n",
       "\n",
       "If you see this message, it means the renderer has not been properly enabled\n",
       "for the frontend that you are using. For more information, see\n",
       "https://altair-viz.github.io/user_guide/troubleshooting.html\n"
      ]
     },
     "execution_count": 9,
     "metadata": {},
     "output_type": "execute_result"
    }
   ],
   "source": [
    "feature_plot = alt.Chart(df).mark_line().encode(\n",
    "    x='n_features_to_select',\n",
    "    y='value',\n",
    "    color = 'error_type'\n",
    ")\n",
    "\n"
   ]
  },
  {
   "cell_type": "code",
   "execution_count": 10,
   "metadata": {},
   "outputs": [],
   "source": [
    "feature_plot.configure(\n",
    "    numberFormat=\"0.4f\"\n",
    ").properties(\n",
    "    title = \"The relationship between MSE and number of features\",\n",
    "    width = 800,\n",
    "    height = 400\n",
    ").save(\"ranked_features.png\")"
   ]
  },
  {
   "cell_type": "code",
   "execution_count": 11,
   "metadata": {},
   "outputs": [
    {
     "data": {
      "text/plain": [
       "RFE(estimator=LinearRegression(copy_X=True, fit_intercept=True, n_jobs=None,\n",
       "                               normalize=False),\n",
       "    n_features_to_select=6, step=1, verbose=0)"
      ]
     },
     "execution_count": 11,
     "metadata": {},
     "output_type": "execute_result"
    }
   ],
   "source": [
    "lr = LinearRegression()\n",
    "rfe = RFE(estimator = lr, n_features_to_select = 6)\n",
    "rfe.fit(X_train, y_train)"
   ]
  },
  {
   "cell_type": "code",
   "execution_count": 44,
   "metadata": {},
   "outputs": [
    {
     "data": {
      "text/plain": [
       "LinearRegression(copy_X=True, fit_intercept=True, n_jobs=None, normalize=False)"
      ]
     },
     "execution_count": 44,
     "metadata": {},
     "output_type": "execute_result"
    }
   ],
   "source": [
    "X_train_sel = X_train_scaled[:, rfe.support_]\n",
    "X_test_sel = X_test_scaled[:, rfe.support_]\n",
    "\n",
    "lr.fit(X_train_sel,y_train)\n",
    "\n",
    "# errors = fit_and_report(lr, X_train_sel, y_train, X_test_sel, y_test, mode='regression')\n",
    "# print('Train error %0.3f'%(errors[0]))\n",
    "# print('Test error %0.3f'%(errors[1]))\n",
    "\n"
   ]
  },
  {
   "cell_type": "code",
   "execution_count": 51,
   "metadata": {},
   "outputs": [],
   "source": [
    "relevant_features_bool=rfe.support_"
   ]
  },
  {
   "cell_type": "code",
   "execution_count": 56,
   "metadata": {},
   "outputs": [
    {
     "data": {
      "text/html": [
       "<div>\n",
       "<style scoped>\n",
       "    .dataframe tbody tr th:only-of-type {\n",
       "        vertical-align: middle;\n",
       "    }\n",
       "\n",
       "    .dataframe tbody tr th {\n",
       "        vertical-align: top;\n",
       "    }\n",
       "\n",
       "    .dataframe thead th {\n",
       "        text-align: right;\n",
       "    }\n",
       "</style>\n",
       "<table border=\"1\" class=\"dataframe\">\n",
       "  <thead>\n",
       "    <tr style=\"text-align: right;\">\n",
       "      <th></th>\n",
       "      <th>0</th>\n",
       "    </tr>\n",
       "  </thead>\n",
       "  <tbody>\n",
       "    <tr>\n",
       "      <td>0</td>\n",
       "      <td>volatile_acidity</td>\n",
       "    </tr>\n",
       "    <tr>\n",
       "      <td>1</td>\n",
       "      <td>chlorides</td>\n",
       "    </tr>\n",
       "    <tr>\n",
       "      <td>2</td>\n",
       "      <td>density</td>\n",
       "    </tr>\n",
       "    <tr>\n",
       "      <td>3</td>\n",
       "      <td>ph</td>\n",
       "    </tr>\n",
       "    <tr>\n",
       "      <td>4</td>\n",
       "      <td>sulphates</td>\n",
       "    </tr>\n",
       "    <tr>\n",
       "      <td>5</td>\n",
       "      <td>alcohol</td>\n",
       "    </tr>\n",
       "  </tbody>\n",
       "</table>\n",
       "</div>"
      ],
      "text/plain": [
       "                  0\n",
       "0  volatile_acidity\n",
       "1         chlorides\n",
       "2           density\n",
       "3                ph\n",
       "4         sulphates\n",
       "5           alcohol"
      ]
     },
     "execution_count": 56,
     "metadata": {},
     "output_type": "execute_result"
    }
   ],
   "source": [
    "relevant_features_list = pd.DataFrame(list(X_train.iloc[:,relevant_features_bool].columns))\n",
    "relevant_features_list"
   ]
  },
  {
   "cell_type": "code",
   "execution_count": 57,
   "metadata": {},
   "outputs": [
    {
     "data": {
      "text/plain": [
       "array([-0.19333982, -0.09256997, -0.01419321, -0.07213299,  0.1438033 ,\n",
       "        0.32665972])"
      ]
     },
     "execution_count": 57,
     "metadata": {},
     "output_type": "execute_result"
    }
   ],
   "source": [
    "lr.coef_[0]"
   ]
  },
  {
   "cell_type": "code",
   "execution_count": 58,
   "metadata": {},
   "outputs": [
    {
     "data": {
      "text/html": [
       "<div>\n",
       "<style scoped>\n",
       "    .dataframe tbody tr th:only-of-type {\n",
       "        vertical-align: middle;\n",
       "    }\n",
       "\n",
       "    .dataframe tbody tr th {\n",
       "        vertical-align: top;\n",
       "    }\n",
       "\n",
       "    .dataframe thead th {\n",
       "        text-align: right;\n",
       "    }\n",
       "</style>\n",
       "<table border=\"1\" class=\"dataframe\">\n",
       "  <thead>\n",
       "    <tr style=\"text-align: right;\">\n",
       "      <th></th>\n",
       "      <th>features</th>\n",
       "      <th>weights</th>\n",
       "    </tr>\n",
       "  </thead>\n",
       "  <tbody>\n",
       "    <tr>\n",
       "      <td>0</td>\n",
       "      <td>volatile_acidity</td>\n",
       "      <td>-0.193340</td>\n",
       "    </tr>\n",
       "    <tr>\n",
       "      <td>1</td>\n",
       "      <td>chlorides</td>\n",
       "      <td>-0.092570</td>\n",
       "    </tr>\n",
       "    <tr>\n",
       "      <td>2</td>\n",
       "      <td>density</td>\n",
       "      <td>-0.014193</td>\n",
       "    </tr>\n",
       "    <tr>\n",
       "      <td>3</td>\n",
       "      <td>ph</td>\n",
       "      <td>-0.072133</td>\n",
       "    </tr>\n",
       "    <tr>\n",
       "      <td>4</td>\n",
       "      <td>sulphates</td>\n",
       "      <td>0.143803</td>\n",
       "    </tr>\n",
       "    <tr>\n",
       "      <td>5</td>\n",
       "      <td>alcohol</td>\n",
       "      <td>0.326660</td>\n",
       "    </tr>\n",
       "  </tbody>\n",
       "</table>\n",
       "</div>"
      ],
      "text/plain": [
       "           features   weights\n",
       "0  volatile_acidity -0.193340\n",
       "1         chlorides -0.092570\n",
       "2           density -0.014193\n",
       "3                ph -0.072133\n",
       "4         sulphates  0.143803\n",
       "5           alcohol  0.326660"
      ]
     },
     "execution_count": 58,
     "metadata": {},
     "output_type": "execute_result"
    }
   ],
   "source": [
    "relevant_features_list['weights'] = lr.coef_[0]\n",
    "relevant_features_list= relevant_features_list.rename(columns={0: \"features\"})\n",
    "relevant_features_list"
   ]
  },
  {
   "cell_type": "code",
   "execution_count": 60,
   "metadata": {},
   "outputs": [],
   "source": [
    "\n",
    "feature_weight_plot = alt.Chart(relevant_features_list).mark_bar().encode(\n",
    "    x='features:N',\n",
    "    y='weights'\n",
    ")\n",
    "\n",
    "feature_weight_plot.configure(\n",
    "    numberFormat=\"0.4f\"\n",
    ").properties(\n",
    "    title = \"The feature weights\",\n",
    "    width = 800,\n",
    "    height = 400\n",
    ").save(\"feature_weight_plot.png\")\n",
    "\n",
    "\n",
    "\n"
   ]
  },
  {
   "cell_type": "code",
   "execution_count": 17,
   "metadata": {},
   "outputs": [],
   "source": [
    "y_pred_df = pd.DataFrame(lr.predict(X_test_sel))\n",
    "y_pred_df = y_pred_df.rename(columns={0: \"predicted\"})\n"
   ]
  },
  {
   "cell_type": "code",
   "execution_count": 18,
   "metadata": {},
   "outputs": [],
   "source": [
    "y_true_df = y_test.rename(columns={'quality': \"actual\"})"
   ]
  },
  {
   "cell_type": "code",
   "execution_count": 19,
   "metadata": {},
   "outputs": [],
   "source": [
    "result_df = pd.concat([y_pred_df, y_true_df], axis=1)"
   ]
  },
  {
   "cell_type": "code",
   "execution_count": 20,
   "metadata": {},
   "outputs": [],
   "source": [
    "plot_result = alt.Chart(result_df).mark_circle(size=10,opacity=0.6).encode(\n",
    "    x='actual:Q',\n",
    "    y='predicted:Q'\n",
    ")\n",
    "\n",
    "\n",
    "plot_result.configure(\n",
    "    numberFormat=\"0.4f\"\n",
    ").properties(\n",
    "    title = \"The prediction result\",\n",
    "    width = 800,\n",
    "    height = 400\n",
    ").save(\"prediction_result.png\")"
   ]
  },
  {
   "cell_type": "code",
   "execution_count": null,
   "metadata": {},
   "outputs": [],
   "source": []
  },
  {
   "cell_type": "code",
   "execution_count": null,
   "metadata": {},
   "outputs": [],
   "source": []
  }
 ],
 "metadata": {
  "kernelspec": {
   "display_name": "Python 3",
   "language": "python",
   "name": "python3"
  },
  "language_info": {
   "codemirror_mode": {
    "name": "ipython",
    "version": 3
   },
   "file_extension": ".py",
   "mimetype": "text/x-python",
   "name": "python",
   "nbconvert_exporter": "python",
   "pygments_lexer": "ipython3",
   "version": "3.7.4"
  }
 },
 "nbformat": 4,
 "nbformat_minor": 4
}
